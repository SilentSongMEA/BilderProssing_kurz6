{
 "cells": [
  {
   "cell_type": "code",
   "execution_count": 1,
   "id": "5eda5d79",
   "metadata": {},
   "outputs": [],
   "source": [
    "import cv2\n",
    "import matplotlib.pyplot as plt\n",
    "import numpy as np"
   ]
  },
  {
   "cell_type": "code",
   "execution_count": 2,
   "id": "f8bd46d8",
   "metadata": {},
   "outputs": [
    {
     "data": {
      "image/png": "[encoded data removed]",
      "text/plain": [
       "<Figure size 432x288 with 1 Axes>"
      ]
     },
     "metadata": {
      "needs_background": "light"
     },
     "output_type": "display_data"
    }
   ],
   "source": [
    "x=np.linspace(0,170,dtype='uint8',num=180)\n",
    "img=np.array([x]*50)\n",
    "saturtion_channel=np.ones_like(img,dtype='uint8')*255\n",
    "value_channel=np.ones_like(img,dtype='uint8')*255\n",
    "\n",
    "hsv=cv2.merge([img,saturtion_channel,value_channel])\n",
    "final_bgr_spectrum=cv2.cvtColor(hsv,cv2.COLOR_HSV2BGR)\n",
    "plt.imshow(final_bgr_spectrum[...,::1])\n",
    "plt.show()"
   ]
  },
  {
   "cell_type": "code",
   "execution_count": 3,
   "id": "19fd5bbb",
   "metadata": {},
   "outputs": [],
   "source": [
    "cap=cv2.VideoCapture(r\"C:\\\\Users\\\\Student\\\\Desktop\\\\pic\\\\001.mp4\")\n",
    "while True:\n",
    "    ret,frame=cap.read()\n",
    "    if not ret:\n",
    "        break\n",
    "    hsv=cv2.cvtColor(frame,cv2.COLOR_BGR2HSV)\n",
    "    lower=np.array([100,50,50])\n",
    "    upper=np.array([130,255,255])\n",
    "    mask=cv2.inRange(hsv,lower,upper)\n",
    "    res=cv2.bitwise_and(frame,frame,mask=mask)\n",
    "    cv2.imshow('frame',frame)\n",
    "    cv2.imshow('mask',mask)\n",
    "    CV2.imshow('res',res)\n",
    "    if cv2.waitKey(5)&0xff==27:\n",
    "        break\n",
    "cv2.destroyAllWindows()\n",
    "cap.release()"
   ]
  },
  {
   "cell_type": "code",
   "execution_count": 4,
   "id": "d3bc8f15",
   "metadata": {},
   "outputs": [],
   "source": [
    "# cap=cv2.CaptureFromCAM(0)\n",
    "# while True:\n",
    "#     ret,frame=cap.read()\n",
    "#     if not ret:\n",
    "#         break\n",
    "#         hsv=cv2.cvtColor(frame,cv2.COLOR_BGR2HSV)\n",
    "#         lower=np.array([100,50,50])\n",
    "#         upper=np.array([130,255,255])\n",
    "#         mask=cv2.inRange(hsv,lower,upper)\n",
    "#         res=cv2.bitwise_and(frame,frame,mask=mask)\n",
    "#         cv2.imshow('frame',frame)\n",
    "#         cv2.imshow('mask',mask)\n",
    "#         CV2.imshow('res',res)\n",
    "#         if cv2.waitKey(5)&0xff==27:\n",
    "#             break\n",
    "# cv2.destroyAllWindows()\n",
    "# cap.release()"
   ]
  },
  {
   "cell_type": "code",
   "execution_count": 8,
   "id": "68ffac70",
   "metadata": {},
   "outputs": [],
   "source": [
    "cap=cv2.VideoCapture(r\"C:\\\\Users\\\\Student\\\\Desktop\\\\pic\\\\001.mp4\")\n",
    "while True:\n",
    "    ret,frame=cap.read()\n",
    "    if not ret:\n",
    "        break\n",
    "    hsv=cv2.cvtColor(frame,cv2.COLOR_BGR2HSV)\n",
    "    lower=np.array([100,50,50])\n",
    "    upper=np.array([130,255,255])\n",
    "    mask=cv2.inRange(hsv,lower,upper)\n",
    "    contourrs,_=cv2.findContours(mask,cv2.RETR_TREE,cv2.CHAIN_APPROX_SIMPLE)\n",
    "    centers,radius=cv2.minEnclosingCircle(contourrs[0])\n",
    "    centers=(int(centers[0]),int(centers[1]))\n",
    "    radius=int(radius)\n",
    "    cv2.circle(frame,centers,radius,(0,255,255),3)\n",
    "    cv2.imshow('frame',frame)\n",
    "    if cv2.waitKey(5)&0xff==27:\n",
    "        break\n",
    "cv2.destroyAllWindows()\n",
    "cap.release()"
   ]
  },
  {
   "cell_type": "code",
   "execution_count": null,
   "id": "b9423b28",
   "metadata": {},
   "outputs": [],
   "source": []
  }
 ],
 "metadata": {
  "kernelspec": {
   "display_name": "Python 3",
   "language": "python",
   "name": "python3"
  },
  "language_info": {
   "codemirror_mode": {
    "name": "ipython",
    "version": 3
   },
   "file_extension": ".py",
   "mimetype": "text/x-python",
   "name": "python",
   "nbconvert_exporter": "python",
   "pygments_lexer": "ipython3",
   "version": "3.8.8"
  }
 },
 "nbformat": 4,
 "nbformat_minor": 5
}
